{
 "cells": [
  {
   "cell_type": "code",
   "execution_count": 20,
   "metadata": {
    "scrolled": true
   },
   "outputs": [
    {
     "name": "stdout",
     "output_type": "stream",
     "text": [
      "calculating uncertainty: 0.064435 \n",
      "previously calculated: 0.064435\n",
      "do they agree? yes\n",
      "\n",
      "x : [1.1, 1.3, 1.4, 0.09, 0.95, 1.05]\n",
      "\n",
      "standard deviation: 0.426435\n",
      "average: 0.981667\n"
     ]
    }
   ],
   "source": [
    "import numpy as np\n",
    "\n",
    "\n",
    "def rule1(c,da):\n",
    "    dQ = np.abs(c)*da\n",
    "    return dQ\n",
    "\n",
    "def rule2(c,m,a,da):\n",
    "    dQ = np.abs(c*m*(A**(m-1)))*da\n",
    "    return dQ\n",
    "\n",
    "def rule3(da,db):\n",
    "    dQ = np.sqrt(da**2+db**2)\n",
    "    return dQ\n",
    "\n",
    "def rule4(Q,m,da,a,n,db,b):\n",
    "    dQ = np.sqrt((((m*da/a))**2)+((n*db/b)**2))*np.abs(Q)\n",
    "    return dQ\n",
    "\n",
    "m  = -0.5\n",
    "da = 0.001\n",
    "a  = 0.985\n",
    "\n",
    "n  = 1.0\n",
    "db = 0.028884954\n",
    "b  = 1.03965\n",
    "Q  = 2.318820241\n",
    "\n",
    "uncertainty = rule4(Q,m,da,a,n,db,b)\n",
    "print (\"calculating uncertainty: %f \" % uncertainty)\n",
    "\n",
    "excel = 0.064435333\n",
    "print (\"previously calculated: %f\" % excel)\n",
    "\n",
    "def yesno (tf):\n",
    "    response = \"yesno\"\n",
    "    if (tf):\n",
    "        response = \"yes\"\n",
    "    else:\n",
    "        response = \"no\"\n",
    "    return response\n",
    "\n",
    "tf = False\n",
    "if (round(uncertainty,6) - round(excel,6) == 0):\n",
    "    tf = True\n",
    "print (\"do they agree? \" + yesno(tf))\n",
    "print()\n",
    "\n",
    "\n",
    "x = [1.1,1.3,1.4,.09,.95,1.05]\n",
    "stdx = np.std(x)\n",
    "avgx = np.average(x)\n",
    "print (\"x :\", end = \" \"),print(x)\n",
    "\n",
    "print()\n",
    "print(\"standard deviation: %f\" % stdx)\n",
    "print(\"average: %f\" % avgx)"
   ]
  },
  {
   "cell_type": "markdown",
   "metadata": {},
   "source": [
    "$\\delta Q=\\sqrt{(\\delta A)^2+(\\delta B)^2}$\n",
    "\n",
    "$\\delta v_{i}= v_{i}\\sqrt{(m\\frac{\\delta y}{y})^2+(n\\frac{\\delta x}{x})^2}$"
   ]
  }
 ],
 "metadata": {
  "kernelspec": {
   "display_name": "Python 3",
   "language": "python",
   "name": "python3"
  },
  "language_info": {
   "codemirror_mode": {
    "name": "ipython",
    "version": 3
   },
   "file_extension": ".py",
   "mimetype": "text/x-python",
   "name": "python",
   "nbconvert_exporter": "python",
   "pygments_lexer": "ipython3",
   "version": "3.6.5"
  }
 },
 "nbformat": 4,
 "nbformat_minor": 2
}
